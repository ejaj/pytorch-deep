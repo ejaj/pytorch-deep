{
 "cells": [
  {
   "cell_type": "code",
   "execution_count": 29,
   "id": "eb92ab54-49ff-4f11-9e4f-71b30a46a3fc",
   "metadata": {
    "ExecuteTime": {
     "end_time": "2024-02-29T11:01:32.758747933Z",
     "start_time": "2024-02-29T11:01:32.715673078Z"
    }
   },
   "outputs": [],
   "source": [
    "import numpy as np\n",
    "from sklearn.linear_model import LinearRegression\n",
    "\n",
    "import torch\n",
    "import torch.optim as optim\n",
    "import torch.nn as nn\n",
    "from torch.utils.data import Dataset, TensorDataset, DataLoader\n",
    "from torch.utils.data.dataset import random_split\n",
    "from torch.utils.tensorboard import SummaryWriter\n",
    "from plots.ch_2 import *\n",
    "import matplotlib.pyplot as plt\n",
    "%matplotlib inline\n",
    "plt.style.use('fivethirtyeight')"
   ]
  },
  {
   "cell_type": "markdown",
   "id": "bcf8997f-3603-43c5-8735-59a28ffaaeee",
   "metadata": {},
   "source": [
    "**Model Training V0**"
   ]
  },
  {
   "cell_type": "code",
   "execution_count": 30,
   "id": "6f5eb08c-5ded-42ed-8dc2-932ae7132716",
   "metadata": {
    "ExecuteTime": {
     "end_time": "2024-02-29T11:01:33.764687351Z",
     "start_time": "2024-02-29T11:01:33.759938935Z"
    }
   },
   "outputs": [
    {
     "name": "stdout",
     "output_type": "stream",
     "text": [
      "torch.Size([80, 1])\n",
      "torch.Size([80, 1])\n"
     ]
    }
   ],
   "source": [
    "# Runs data generation - so we do not need to copy code here\n",
    "%run -i data_generation/simple_linear_regression.py\n",
    "# Runs the first two parts of the sequence: data preparation and model configuration\n",
    "%run -i data_preparation/v0.py\n",
    "%run -i model_configuration/v0.py"
   ]
  },
  {
   "cell_type": "code",
   "execution_count": 31,
   "id": "41b870b2-a2a1-4eed-9414-0f5d76716260",
   "metadata": {
    "ExecuteTime": {
     "end_time": "2024-02-29T11:01:34.216882802Z",
     "start_time": "2024-02-29T11:01:33.920569403Z"
    }
   },
   "outputs": [],
   "source": [
    "# Defines number of epochs\n",
    "n_epochs = 1000\n",
    "\n",
    "for epoch in range(n_epochs):\n",
    "    # Sets model to TRAIN mode\n",
    "    model.train()\n",
    "\n",
    "    # Step 1 - Computes our model's predicted output - forward pass\n",
    "    # No more manual prediction!\n",
    "    yhat = model(x_train_tensor)\n",
    "\n",
    "    # Step 2 - Computes the loss\n",
    "    loss = loss_fn(yhat, y_train_tensor)\n",
    "\n",
    "    # Step 3 - Computes gradients for both \"a\" and \"b\" parameters\n",
    "    loss.backward()\n",
    "\n",
    "    # Step 4 - Updates parameters using gradients and the learning rate\n",
    "    optimizer.step()\n",
    "    optimizer.zero_grad()"
   ]
  },
  {
   "cell_type": "code",
   "execution_count": 32,
   "id": "2a56cc1b-b3b7-4cdd-9406-7edd5c7b6fff",
   "metadata": {
    "ExecuteTime": {
     "end_time": "2024-02-29T11:01:34.272668545Z",
     "start_time": "2024-02-29T11:01:34.217369616Z"
    }
   },
   "outputs": [
    {
     "name": "stdout",
     "output_type": "stream",
     "text": [
      "OrderedDict([('0.weight', tensor([[1.9690]], device='cuda:0')), ('0.bias', tensor([1.0235], device='cuda:0'))])\n"
     ]
    }
   ],
   "source": [
    "print(model.state_dict())"
   ]
  },
  {
   "cell_type": "markdown",
   "id": "1d737602-075d-4743-95b1-116f56f61cc2",
   "metadata": {},
   "source": [
    "**Higher-Order Functions**"
   ]
  },
  {
   "cell_type": "code",
   "execution_count": 33,
   "id": "0c62ec0a-1562-4436-9194-8d2343e4f4cc",
   "metadata": {
    "ExecuteTime": {
     "end_time": "2024-02-29T11:01:34.662958652Z",
     "start_time": "2024-02-29T11:01:34.659638517Z"
    }
   },
   "outputs": [],
   "source": [
    "def square(x):\n",
    "    return x ** 2\n",
    "\n",
    "\n",
    "def cube(x):\n",
    "    return x ** 3\n",
    "\n",
    "\n",
    "def fourth_power(x):\n",
    "    return x ** 4"
   ]
  },
  {
   "cell_type": "code",
   "execution_count": 34,
   "id": "65d7c52e-9e23-4dc5-b39f-655ab85be61f",
   "metadata": {
    "ExecuteTime": {
     "end_time": "2024-02-29T11:01:35.188599445Z",
     "start_time": "2024-02-29T11:01:35.176081530Z"
    }
   },
   "outputs": [],
   "source": [
    "def generic_exponentiation(x, exponent):\n",
    "    return x ** exponent"
   ]
  },
  {
   "cell_type": "code",
   "execution_count": 35,
   "id": "639ba6b2-f378-434b-8a4b-e803c249496b",
   "metadata": {
    "ExecuteTime": {
     "end_time": "2024-02-29T11:01:35.357326005Z",
     "start_time": "2024-02-29T11:01:35.355704841Z"
    }
   },
   "outputs": [],
   "source": [
    "def skeleton_exponentiation(x):\n",
    "    return x ** exponent"
   ]
  },
  {
   "cell_type": "code",
   "execution_count": 36,
   "id": "e110440c-465c-4951-bd73-00a36aa0a306",
   "metadata": {
    "ExecuteTime": {
     "end_time": "2024-02-29T11:01:35.717458021Z",
     "start_time": "2024-02-29T11:01:35.699076204Z"
    }
   },
   "outputs": [
    {
     "ename": "NameError",
     "evalue": "name 'exponent' is not defined",
     "output_type": "error",
     "traceback": [
      "\u001B[0;31m---------------------------------------------------------------------------\u001B[0m",
      "\u001B[0;31mNameError\u001B[0m                                 Traceback (most recent call last)",
      "Cell \u001B[0;32mIn[36], line 1\u001B[0m\n\u001B[0;32m----> 1\u001B[0m \u001B[43mskeleton_exponentiation\u001B[49m\u001B[43m(\u001B[49m\u001B[38;5;241;43m2\u001B[39;49m\u001B[43m)\u001B[49m\n",
      "Cell \u001B[0;32mIn[35], line 2\u001B[0m, in \u001B[0;36mskeleton_exponentiation\u001B[0;34m(x)\u001B[0m\n\u001B[1;32m      1\u001B[0m \u001B[38;5;28;01mdef\u001B[39;00m \u001B[38;5;21mskeleton_exponentiation\u001B[39m(x):\n\u001B[0;32m----> 2\u001B[0m     \u001B[38;5;28;01mreturn\u001B[39;00m x \u001B[38;5;241m*\u001B[39m\u001B[38;5;241m*\u001B[39m \u001B[43mexponent\u001B[49m\n",
      "\u001B[0;31mNameError\u001B[0m: name 'exponent' is not defined"
     ]
    }
   ],
   "source": [
    "skeleton_exponentiation(2)"
   ]
  },
  {
   "cell_type": "code",
   "execution_count": 37,
   "id": "a4eb6261-21dc-42df-bcde-6198ee160a94",
   "metadata": {
    "ExecuteTime": {
     "end_time": "2024-02-29T11:01:35.909602404Z",
     "start_time": "2024-02-29T11:01:35.904395106Z"
    }
   },
   "outputs": [],
   "source": [
    "def exponentiation_builder(exponent):\n",
    "    def skeleton_exponentiation(x):\n",
    "        return x ** exponent\n",
    "\n",
    "    return skeleton_exponentiation"
   ]
  },
  {
   "cell_type": "code",
   "execution_count": 38,
   "id": "406bd663-3836-4c58-8fda-d00211668c20",
   "metadata": {
    "ExecuteTime": {
     "end_time": "2024-02-29T11:01:36.120176944Z",
     "start_time": "2024-02-29T11:01:36.111951519Z"
    }
   },
   "outputs": [
    {
     "data": {
      "text/plain": "<function __main__.exponentiation_builder.<locals>.skeleton_exponentiation(x)>"
     },
     "execution_count": 38,
     "metadata": {},
     "output_type": "execute_result"
    }
   ],
   "source": [
    "returned_function = exponentiation_builder(2)\n",
    "returned_function"
   ]
  },
  {
   "cell_type": "code",
   "execution_count": 39,
   "id": "64059848-febc-44ec-b322-dafeadcd4a38",
   "metadata": {
    "ExecuteTime": {
     "end_time": "2024-02-29T11:01:36.536719145Z",
     "start_time": "2024-02-29T11:01:36.533771920Z"
    }
   },
   "outputs": [
    {
     "data": {
      "text/plain": "25"
     },
     "execution_count": 39,
     "metadata": {},
     "output_type": "execute_result"
    }
   ],
   "source": [
    "returned_function(5)"
   ]
  },
  {
   "cell_type": "code",
   "execution_count": 40,
   "id": "5e3a6f28-05ea-4b50-8612-074c1f956bb0",
   "metadata": {
    "ExecuteTime": {
     "end_time": "2024-02-29T11:01:36.686446919Z",
     "start_time": "2024-02-29T11:01:36.683726480Z"
    }
   },
   "outputs": [
    {
     "data": {
      "text/plain": "<function __main__.exponentiation_builder.<locals>.skeleton_exponentiation(x)>"
     },
     "execution_count": 40,
     "metadata": {},
     "output_type": "execute_result"
    }
   ],
   "source": [
    "square = exponentiation_builder(2)\n",
    "cube = exponentiation_builder(3)\n",
    "fourth_power = exponentiation_builder(4)\n",
    "fourth_power"
   ]
  },
  {
   "cell_type": "markdown",
   "id": "968dcacd-0af2-4322-b44e-bbb99e570b19",
   "metadata": {},
   "source": [
    "***Helper Function #1***"
   ]
  },
  {
   "cell_type": "code",
   "execution_count": 41,
   "id": "3395d8e0-6037-4029-821e-b9823f96c6ce",
   "metadata": {
    "ExecuteTime": {
     "end_time": "2024-02-29T11:01:37.055928690Z",
     "start_time": "2024-02-29T11:01:37.053941378Z"
    }
   },
   "outputs": [],
   "source": [
    "def make_train_step_fn(model, loss_fn, optimizer):\n",
    "    # Builds function that performs a step in the train loop\n",
    "    def perform_train_step_fn(x, y):\n",
    "        # Sets model to TRAIN mode\n",
    "        model.train()\n",
    "\n",
    "        # Step 1 - Computes our model's predicted output - forward pass\n",
    "        yhat = model(x)\n",
    "        # Step 2 - Computes the loss\n",
    "        loss = loss_fn(yhat, y)\n",
    "        # Step 3 - Computes gradients for both \"a\" and \"b\" parameters\n",
    "        loss.backward()\n",
    "        # Step 4 - Updates parameters using gradients and the learning rate\n",
    "        optimizer.step()\n",
    "        optimizer.zero_grad()\n",
    "\n",
    "        # Returns the loss\n",
    "        return loss.item()\n",
    "\n",
    "    # Returns the function that will be called inside the train loop\n",
    "    return perform_train_step_fn"
   ]
  },
  {
   "cell_type": "markdown",
   "id": "af5a88b8-d991-4b15-9d77-2da7231b8276",
   "metadata": {},
   "source": [
    "**Model Configuration V1**"
   ]
  },
  {
   "cell_type": "code",
   "execution_count": 42,
   "id": "3199a015-8161-43f7-a925-5833593bd3ca",
   "metadata": {
    "ExecuteTime": {
     "end_time": "2024-02-29T11:01:37.391510484Z",
     "start_time": "2024-02-29T11:01:37.389338866Z"
    }
   },
   "outputs": [
    {
     "name": "stdout",
     "output_type": "stream",
     "text": [
      "torch.Size([80, 1])\n",
      "torch.Size([80, 1])\n"
     ]
    }
   ],
   "source": [
    "%run -i data_preparation/v0.py"
   ]
  },
  {
   "cell_type": "code",
   "execution_count": 43,
   "id": "7b830734-f072-42ee-b2bb-88bd26898a88",
   "metadata": {
    "ExecuteTime": {
     "end_time": "2024-02-29T11:01:37.572202682Z",
     "start_time": "2024-02-29T11:01:37.569019775Z"
    }
   },
   "outputs": [
    {
     "name": "stdout",
     "output_type": "stream",
     "text": [
      "Writing model_configuration/v1.py\n"
     ]
    }
   ],
   "source": [
    "%%writefile model_configuration/v1.py\n",
    "\n",
    "device = 'cuda' if torch.cuda.is_available() else 'cpu'\n",
    "\n",
    "# Sets learning rate - this is \"eta\" ~ the \"n\" like Greek letter\n",
    "lr = 0.1\n",
    "\n",
    "torch.manual_seed(42)\n",
    "# Now we can create a model and send it at once to the device\n",
    "model = nn.Sequential(nn.Linear(1, 1)).to(device)\n",
    "\n",
    "# Defines a SGD optimizer to update the parameters (now retrieved directly from the model)\n",
    "optimizer = optim.SGD(model.parameters(), lr=lr)\n",
    "\n",
    "# Defines a MSE loss function\n",
    "loss_fn = nn.MSELoss(reduction='mean')\n",
    "\n",
    "# Creates the train_step function for our model, loss function and optimizer\n",
    "train_step_fn = make_train_step_fn(model, loss_fn, optimizer)"
   ]
  },
  {
   "cell_type": "code",
   "execution_count": 44,
   "id": "df7f72f9-2905-42f9-8f69-35a0bc991660",
   "metadata": {
    "ExecuteTime": {
     "end_time": "2024-02-29T11:01:37.734901853Z",
     "start_time": "2024-02-29T11:01:37.731904495Z"
    }
   },
   "outputs": [],
   "source": [
    "%run -i model_configuration/v1.py"
   ]
  },
  {
   "cell_type": "code",
   "execution_count": 45,
   "id": "d55faf60-f1ae-4cbf-9b14-d2fe828de109",
   "metadata": {
    "ExecuteTime": {
     "end_time": "2024-02-29T11:01:37.915261426Z",
     "start_time": "2024-02-29T11:01:37.912878943Z"
    }
   },
   "outputs": [
    {
     "data": {
      "text/plain": "<function __main__.make_train_step_fn.<locals>.perform_train_step_fn(x, y)>"
     },
     "execution_count": 45,
     "metadata": {},
     "output_type": "execute_result"
    }
   ],
   "source": [
    "train_step_fn"
   ]
  },
  {
   "cell_type": "markdown",
   "id": "9f943bc7-011a-4767-a5ff-bed108359014",
   "metadata": {},
   "source": [
    "***Model Training V1***"
   ]
  },
  {
   "cell_type": "code",
   "execution_count": 46,
   "id": "28e856cb-d1e4-41b0-9841-4f022c613d18",
   "metadata": {
    "ExecuteTime": {
     "end_time": "2024-02-29T11:01:38.468153698Z",
     "start_time": "2024-02-29T11:01:38.455803978Z"
    }
   },
   "outputs": [
    {
     "name": "stdout",
     "output_type": "stream",
     "text": [
      "Writing model_training/v1.py\n"
     ]
    }
   ],
   "source": [
    "%%writefile model_training/v1.py\n",
    "\n",
    "# Defines number of epochs\n",
    "n_epochs = 1000\n",
    "\n",
    "losses = []\n",
    "\n",
    "# For each epoch...\n",
    "for epoch in range(n_epochs):\n",
    "    # Performs one train step and returns the corresponding loss\n",
    "    loss = train_step_fn(x_train_tensor, y_train_tensor)\n",
    "    losses.append(loss)"
   ]
  },
  {
   "cell_type": "code",
   "execution_count": 47,
   "id": "8801b9d1-764c-4f29-b96d-7d828160756b",
   "metadata": {
    "ExecuteTime": {
     "end_time": "2024-02-29T11:01:38.928830151Z",
     "start_time": "2024-02-29T11:01:38.624148680Z"
    }
   },
   "outputs": [],
   "source": [
    "%run -i model_training/v1.py"
   ]
  },
  {
   "cell_type": "code",
   "execution_count": 48,
   "id": "b592ef29-9448-483f-bb9a-96a142efa7f9",
   "metadata": {
    "ExecuteTime": {
     "end_time": "2024-02-29T11:01:38.971230448Z",
     "start_time": "2024-02-29T11:01:38.929795724Z"
    }
   },
   "outputs": [
    {
     "name": "stdout",
     "output_type": "stream",
     "text": [
      "OrderedDict([('0.weight', tensor([[1.9690]], device='cuda:0')), ('0.bias', tensor([1.0235], device='cuda:0'))])\n"
     ]
    }
   ],
   "source": [
    "# Checks model's parameters\n",
    "print(model.state_dict())"
   ]
  },
  {
   "cell_type": "markdown",
   "id": "33e89c84-b44d-4465-8ba3-5f12702b2dde",
   "metadata": {},
   "source": [
    "**Dataset**"
   ]
  },
  {
   "cell_type": "code",
   "execution_count": 49,
   "id": "a5a43cd6-e612-447d-8f66-e3cdc658bdec",
   "metadata": {
    "ExecuteTime": {
     "end_time": "2024-02-29T11:01:39.161313099Z",
     "start_time": "2024-02-29T11:01:39.158904275Z"
    }
   },
   "outputs": [
    {
     "name": "stdout",
     "output_type": "stream",
     "text": [
      "(tensor([0.7713]), tensor([2.4745]))\n"
     ]
    }
   ],
   "source": [
    "class CustomDataset(Dataset):\n",
    "    def __init__(self, x_tensor, y_tensor):\n",
    "        self.x = x_tensor\n",
    "        self.y = y_tensor\n",
    "\n",
    "    def __getitem__(self, index):\n",
    "        return (self.x[index], self.y[index])\n",
    "\n",
    "    def __len__(self):\n",
    "        return len(self.x)\n",
    "\n",
    "\n",
    "# Wait, is this a CPU tensor now? Why? Where is .to(device)?\n",
    "x_train_tensor = torch.from_numpy(x_train).float()\n",
    "y_train_tensor = torch.from_numpy(y_train).float()\n",
    "\n",
    "train_data = CustomDataset(x_train_tensor, y_train_tensor)\n",
    "print(train_data[0])"
   ]
  },
  {
   "cell_type": "markdown",
   "id": "303503c7-d26b-461d-975b-85be5d97948c",
   "metadata": {},
   "source": [
    "**TensorDataset**"
   ]
  },
  {
   "cell_type": "code",
   "execution_count": 50,
   "id": "071b4ae2-7a16-4954-9ec1-57f02d0444b5",
   "metadata": {
    "ExecuteTime": {
     "end_time": "2024-02-29T11:01:41.229334320Z",
     "start_time": "2024-02-29T11:01:41.226718308Z"
    }
   },
   "outputs": [
    {
     "data": {
      "text/plain": "(tensor([0.7713]), tensor([2.4745]))"
     },
     "execution_count": 50,
     "metadata": {},
     "output_type": "execute_result"
    }
   ],
   "source": [
    "train_data = TensorDataset(x_train_tensor, y_train_tensor)\n",
    "train_data[0]"
   ]
  },
  {
   "cell_type": "code",
   "execution_count": 51,
   "id": "1c01ea64-d77d-4043-8f04-cbf3f859a4f7",
   "metadata": {
    "ExecuteTime": {
     "end_time": "2024-02-29T11:01:41.614368362Z",
     "start_time": "2024-02-29T11:01:41.612377333Z"
    }
   },
   "outputs": [],
   "source": [
    "train_loader = DataLoader(dataset=train_data, batch_size=16, shuffle=True)"
   ]
  },
  {
   "cell_type": "code",
   "execution_count": 52,
   "id": "7839e8cd-6a6f-4908-b07b-3b805cd09e19",
   "metadata": {
    "ExecuteTime": {
     "end_time": "2024-02-29T11:01:41.778087887Z",
     "start_time": "2024-02-29T11:01:41.775468729Z"
    }
   },
   "outputs": [
    {
     "data": {
      "text/plain": "(tensor([0.7713]), tensor([2.4745]))"
     },
     "execution_count": 52,
     "metadata": {},
     "output_type": "execute_result"
    }
   ],
   "source": [
    "next(iter(train_data))"
   ]
  },
  {
   "cell_type": "code",
   "execution_count": 53,
   "id": "634e4f5b-c07b-4b96-b07e-0921f13aa005",
   "metadata": {
    "ExecuteTime": {
     "end_time": "2024-02-29T11:01:41.964151029Z",
     "start_time": "2024-02-29T11:01:41.961195158Z"
    }
   },
   "outputs": [],
   "source": [
    "# list(train_loader)"
   ]
  },
  {
   "cell_type": "markdown",
   "id": "471b02cc-c06d-469f-b065-93d3e89b70ec",
   "metadata": {},
   "source": [
    "**Data Preparation V1**"
   ]
  },
  {
   "cell_type": "code",
   "execution_count": 62,
   "id": "ef0e36ce-e0e7-419f-bc46-3b2c720fffea",
   "metadata": {
    "ExecuteTime": {
     "end_time": "2024-02-29T12:05:10.838066489Z",
     "start_time": "2024-02-29T12:05:10.828196221Z"
    }
   },
   "outputs": [
    {
     "name": "stdout",
     "output_type": "stream",
     "text": [
      "Overwriting data_preparation/v1.py\n"
     ]
    }
   ],
   "source": [
    "%%writefile data_preparation/v1.py\n",
    "\n",
    "# Our data was in Numpy arrays, but we need to transform them into PyTorch's Tensors\n",
    "x_train_tensor = torch.from_numpy(x_train).float()\n",
    "y_train_tensor = torch.from_numpy(y_train).float()\n",
    "\n",
    "# Builds Dataset\n",
    "train_data = TensorDataset(x_train_tensor, y_train_tensor)\n",
    "\n",
    "# Builds DataLoader\n",
    "train_loader = DataLoader(dataset=train_data, batch_size=16, shuffle=True)\n",
    "print(len(train_loader))"
   ]
  },
  {
   "cell_type": "code",
   "execution_count": 63,
   "id": "7d8a9967-77e3-495d-bc61-b025e758a473",
   "metadata": {
    "ExecuteTime": {
     "end_time": "2024-02-29T12:05:14.446752081Z",
     "start_time": "2024-02-29T12:05:14.403548509Z"
    }
   },
   "outputs": [
    {
     "name": "stdout",
     "output_type": "stream",
     "text": [
      "5\n"
     ]
    }
   ],
   "source": [
    "%run -i data_preparation/v1.py"
   ]
  },
  {
   "cell_type": "markdown",
   "id": "b9814778-2a2f-4494-8b89-dac4b2c6eef1",
   "metadata": {},
   "source": [
    "**Model Training V2**"
   ]
  },
  {
   "cell_type": "code",
   "execution_count": 64,
   "id": "22d00e2d-782d-4df8-b2c3-78649f27beaa",
   "metadata": {
    "ExecuteTime": {
     "end_time": "2024-02-29T12:05:19.421868467Z",
     "start_time": "2024-02-29T12:05:19.418678837Z"
    }
   },
   "outputs": [],
   "source": [
    "%run -i model_configuration/v1.py"
   ]
  },
  {
   "cell_type": "code",
   "execution_count": 65,
   "outputs": [
    {
     "name": "stdout",
     "output_type": "stream",
     "text": [
      "Overwriting model_training/v2.py\n"
     ]
    }
   ],
   "source": [
    "%%writefile model_training/v2.py\n",
    "\n",
    "# Defines number of epochs\n",
    "n_epochs = 1000\n",
    "\n",
    "losses = []\n",
    "\n",
    "# For each epoch...\n",
    "for epoch in range(n_epochs):\n",
    "    # inner loop\n",
    "    mini_batch_losses = []\n",
    "    for x_batch, y_batch in train_loader:\n",
    "        # the dataset \"lives\" in the CPU, so do our mini-batches\n",
    "        # therefore, we need to send those mini-batches to the\n",
    "        # device where the model \"lives\"\n",
    "        x_batch = x_batch.to(device)\n",
    "        y_batch = y_batch.to(device)\n",
    "\n",
    "        # Performs one train step and returns the corresponding loss \n",
    "        # for this mini-batch\n",
    "        mini_batch_loss = train_step_fn(x_batch, y_batch)\n",
    "        mini_batch_losses.append(mini_batch_loss)\n",
    "\n",
    "    # Computes average loss over all mini-batches - that's the epoch loss\n",
    "    loss = np.mean(mini_batch_losses)\n",
    "\n",
    "    losses.append(loss)"
   ],
   "metadata": {
    "collapsed": false,
    "ExecuteTime": {
     "end_time": "2024-02-29T12:05:19.905032917Z",
     "start_time": "2024-02-29T12:05:19.903323697Z"
    }
   },
   "id": "cb97097059858ef8"
  },
  {
   "cell_type": "code",
   "execution_count": 66,
   "outputs": [],
   "source": [
    "%run -i model_training/v2.py"
   ],
   "metadata": {
    "collapsed": false,
    "ExecuteTime": {
     "end_time": "2024-02-29T12:05:22.591833008Z",
     "start_time": "2024-02-29T12:05:20.313678700Z"
    }
   },
   "id": "9530abadce47b876"
  },
  {
   "cell_type": "code",
   "execution_count": 67,
   "outputs": [
    {
     "name": "stdout",
     "output_type": "stream",
     "text": [
      "OrderedDict([('0.weight', tensor([[1.9696]], device='cuda:0')), ('0.bias', tensor([1.0243], device='cuda:0'))])\n"
     ]
    }
   ],
   "source": [
    "# Checks model's parameters\n",
    "print(model.state_dict())"
   ],
   "metadata": {
    "collapsed": false,
    "ExecuteTime": {
     "end_time": "2024-02-29T12:05:23.385703938Z",
     "start_time": "2024-02-29T12:05:23.361813878Z"
    }
   },
   "id": "54d9df109a793a3"
  },
  {
   "cell_type": "markdown",
   "source": [
    "**Mini-Batch Inner Loop**"
   ],
   "metadata": {
    "collapsed": false
   },
   "id": "910dc4e08da8f773"
  },
  {
   "cell_type": "code",
   "execution_count": 78,
   "outputs": [],
   "source": [
    "# Helper function\n",
    "def mini_batch(device, data_loader, step_fn):\n",
    "    mini_batch_losses = []\n",
    "    for x_batch, y_batch in data_loader:\n",
    "        x_batch = x_batch.to(device)\n",
    "        y_batch = y_batch.to(device)\n",
    "\n",
    "        mini_batch_loss = step_fn(x_batch, y_batch)\n",
    "        mini_batch_losses.append(mini_batch_loss)\n",
    "\n",
    "    loss = np.mean(mini_batch_losses)\n",
    "    return loss"
   ],
   "metadata": {
    "collapsed": false,
    "ExecuteTime": {
     "end_time": "2024-02-29T13:08:43.130136779Z",
     "start_time": "2024-02-29T13:08:43.120456956Z"
    }
   },
   "id": "712322756f3b2e6b"
  },
  {
   "cell_type": "markdown",
   "source": [
    "## Model Training V3 ##"
   ],
   "metadata": {
    "collapsed": false
   },
   "id": "9b4bdc6641544663"
  },
  {
   "cell_type": "code",
   "execution_count": 79,
   "outputs": [
    {
     "name": "stdout",
     "output_type": "stream",
     "text": [
      "5\n"
     ]
    }
   ],
   "source": [
    "%run -i data_preparation/v1.py\n",
    "%run -i model_configuration/v1.py"
   ],
   "metadata": {
    "collapsed": false,
    "ExecuteTime": {
     "end_time": "2024-02-29T13:08:44.546182187Z",
     "start_time": "2024-02-29T13:08:44.541836614Z"
    }
   },
   "id": "3a5ffa353cf43dae"
  },
  {
   "cell_type": "code",
   "execution_count": 80,
   "outputs": [
    {
     "name": "stdout",
     "output_type": "stream",
     "text": [
      "Overwriting model_training/v3.py\n"
     ]
    }
   ],
   "source": [
    "%%writefile model_training/v3.py\n",
    "\n",
    "# Defines number of epochs\n",
    "n_epochs = 200\n",
    "\n",
    "losses = []\n",
    "\n",
    "for epoch in range(n_epochs):\n",
    "    # inner loop\n",
    "    loss = mini_batch(device, train_loader, train_step_fn)\n",
    "    losses.append(loss)"
   ],
   "metadata": {
    "collapsed": false,
    "ExecuteTime": {
     "end_time": "2024-02-29T13:08:44.942152490Z",
     "start_time": "2024-02-29T13:08:44.938747384Z"
    }
   },
   "id": "11b22f76954071e"
  },
  {
   "cell_type": "code",
   "execution_count": 81,
   "outputs": [],
   "source": [
    "%run -i model_training/v3.py"
   ],
   "metadata": {
    "collapsed": false,
    "ExecuteTime": {
     "end_time": "2024-02-29T13:08:49.097026139Z",
     "start_time": "2024-02-29T13:08:48.624813622Z"
    }
   },
   "id": "9343a1b780ac9e6e"
  },
  {
   "cell_type": "code",
   "execution_count": 82,
   "outputs": [
    {
     "name": "stdout",
     "output_type": "stream",
     "text": [
      "OrderedDict([('0.weight', tensor([[1.9684]], device='cuda:0')), ('0.bias', tensor([1.0219], device='cuda:0'))])\n"
     ]
    }
   ],
   "source": [
    "# Checks model's parameters\n",
    "print(model.state_dict())"
   ],
   "metadata": {
    "collapsed": false,
    "ExecuteTime": {
     "end_time": "2024-02-29T13:08:49.139534928Z",
     "start_time": "2024-02-29T13:08:49.096377370Z"
    }
   },
   "id": "1151f66a1db3e31f"
  },
  {
   "cell_type": "markdown",
   "source": [
    "## Random Split ##"
   ],
   "metadata": {
    "collapsed": false
   },
   "id": "46b36de8389d8687"
  },
  {
   "cell_type": "markdown",
   "source": [
    "**Data Preparation V2**"
   ],
   "metadata": {
    "collapsed": false
   },
   "id": "b9b21ba989ca7313"
  },
  {
   "cell_type": "code",
   "execution_count": 83,
   "outputs": [
    {
     "name": "stdout",
     "output_type": "stream",
     "text": [
      "Overwriting data_preparation/v2.py\n"
     ]
    }
   ],
   "source": [
    "%%writefile data_preparation/v2.py\n",
    "\n",
    "torch.manual_seed(13)\n",
    "\n",
    "# Builds tensors from numpy arrays BEFORE split\n",
    "x_tensor = torch.from_numpy(x).float()\n",
    "y_tensor = torch.from_numpy(y).float()\n",
    "\n",
    "# Builds dataset containing ALL data points\n",
    "dataset = TensorDataset(x_tensor, y_tensor)\n",
    "\n",
    "# Performs the split\n",
    "ratio = .8\n",
    "n_total = len(dataset)\n",
    "n_train = int(n_total * ratio)\n",
    "n_val = n_total - n_train\n",
    "\n",
    "train_data, val_data = random_split(dataset, [n_train, n_val])\n",
    "\n",
    "# Builds a loader of each set\n",
    "train_loader = DataLoader(dataset=train_data, batch_size=16, shuffle=True)\n",
    "val_loader = DataLoader(dataset=val_data, batch_size=16)"
   ],
   "metadata": {
    "collapsed": false,
    "ExecuteTime": {
     "end_time": "2024-02-29T13:08:51.136736803Z",
     "start_time": "2024-02-29T13:08:51.133107486Z"
    }
   },
   "id": "138056102c0dd64c"
  },
  {
   "cell_type": "code",
   "execution_count": 84,
   "outputs": [],
   "source": [
    "%run -i data_preparation/v2.py"
   ],
   "metadata": {
    "collapsed": false,
    "ExecuteTime": {
     "end_time": "2024-02-29T13:08:51.565388035Z",
     "start_time": "2024-02-29T13:08:51.556793210Z"
    }
   },
   "id": "ce65247ad8cf6821"
  },
  {
   "cell_type": "markdown",
   "source": [
    "## Evaluation ##"
   ],
   "metadata": {
    "collapsed": false
   },
   "id": "e7b275a3c27aeae0"
  },
  {
   "cell_type": "code",
   "execution_count": 85,
   "outputs": [],
   "source": [
    "# Helper Function #3\n",
    "def make_val_step_fn(model, loss_fn):\n",
    "    # Builds function that performs a step in the validation loop\n",
    "    def perform_val_step_fn(x, y):\n",
    "        # Sets model to EVAL mode\n",
    "        model.eval()\n",
    "\n",
    "        # Step 1 - Computes our model's predicted output - forward pass\n",
    "        yhat = model(x)\n",
    "        # Step 2 - Computes the loss\n",
    "        loss = loss_fn(yhat, y)\n",
    "        # There is no need to compute Steps 3 and 4, since we don't update parameters during evaluation\n",
    "        return loss.item()\n",
    "\n",
    "    return perform_val_step_fn"
   ],
   "metadata": {
    "collapsed": false,
    "ExecuteTime": {
     "end_time": "2024-02-29T13:08:53.662331132Z",
     "start_time": "2024-02-29T13:08:53.657181409Z"
    }
   },
   "id": "e18351ac846f3568"
  },
  {
   "cell_type": "markdown",
   "source": [
    "## Model Configuration V2 ##"
   ],
   "metadata": {
    "collapsed": false
   },
   "id": "59bbfd8bbd4a8a37"
  },
  {
   "cell_type": "code",
   "execution_count": 86,
   "outputs": [
    {
     "name": "stdout",
     "output_type": "stream",
     "text": [
      "Overwriting model_configuration/v2.py\n"
     ]
    }
   ],
   "source": [
    "%%writefile model_configuration/v2.py\n",
    "\n",
    "device = 'cuda' if torch.cuda.is_available() else 'cpu'\n",
    "\n",
    "# Sets learning rate - this is \"eta\" ~ the \"n\" like Greek letter\n",
    "lr = 0.1\n",
    "\n",
    "torch.manual_seed(42)\n",
    "# Now we can create a model and send it at once to the device\n",
    "model = nn.Sequential(nn.Linear(1, 1)).to(device)\n",
    "\n",
    "# Defines a SGD optimizer to update the parameters (now retrieved directly from the model)\n",
    "optimizer = optim.SGD(model.parameters(), lr=lr)\n",
    "\n",
    "# Defines a MSE loss function\n",
    "loss_fn = nn.MSELoss(reduction='mean')\n",
    "\n",
    "# Creates the train_step function for our model, loss function and optimizer\n",
    "train_step_fn = make_train_step_fn(model, loss_fn, optimizer)\n",
    "\n",
    "# Creates the val_step function for our model and loss function\n",
    "val_step_fn = make_val_step_fn(model, loss_fn)"
   ],
   "metadata": {
    "collapsed": false,
    "ExecuteTime": {
     "end_time": "2024-02-29T13:09:00.831389014Z",
     "start_time": "2024-02-29T13:09:00.827947761Z"
    }
   },
   "id": "e8294ae8f85c3b21"
  },
  {
   "cell_type": "code",
   "execution_count": 87,
   "outputs": [],
   "source": [
    "%run -i model_configuration/v2.py"
   ],
   "metadata": {
    "collapsed": false,
    "ExecuteTime": {
     "end_time": "2024-02-29T13:09:01.030854762Z",
     "start_time": "2024-02-29T13:09:01.026178909Z"
    }
   },
   "id": "253a62b4f08bcf3a"
  },
  {
   "cell_type": "markdown",
   "source": [
    "## Model Training V4 ##"
   ],
   "metadata": {
    "collapsed": false
   },
   "id": "a382db3cf985102"
  },
  {
   "cell_type": "code",
   "execution_count": 91,
   "outputs": [
    {
     "name": "stdout",
     "output_type": "stream",
     "text": [
      "Overwriting model_training/v4.py\n"
     ]
    }
   ],
   "source": [
    "%%writefile model_training/v4.py\n",
    "import wandb\n",
    "\n",
    "wandb.init(project='pytorch-deep', name='model_training_v4')\n",
    "\n",
    "# Defines number of epochs\n",
    "n_epochs = 200\n",
    "\n",
    "losses = []\n",
    "val_losses = []\n",
    "\n",
    "wandb.config = {\n",
    "    \"epochs\": n_epochs,\n",
    "}\n",
    "\n",
    "for epoch in range(n_epochs):\n",
    "    # inner loop\n",
    "    loss = mini_batch(device, train_loader, train_step_fn)\n",
    "    losses.append(loss)\n",
    "    wandb.log({\"epoch\": epoch, \"train_loss\": loss})\n",
    "\n",
    "    # VALIDATION\n",
    "    # no gradients in validation!\n",
    "    with torch.no_grad():\n",
    "        val_loss = mini_batch(device, val_loader, val_step_fn)\n",
    "        val_losses.append(val_loss)\n",
    "        wandb.log({\"epoch\": epoch, \"val_loss\": val_loss})\n",
    "\n",
    "wandb.finish()"
   ],
   "metadata": {
    "collapsed": false,
    "ExecuteTime": {
     "end_time": "2024-02-29T13:17:28.719062679Z",
     "start_time": "2024-02-29T13:17:28.672875477Z"
    }
   },
   "id": "4e4b09b2b12b8b4c"
  },
  {
   "cell_type": "code",
   "execution_count": 92,
   "outputs": [
    {
     "data": {
      "text/plain": "<IPython.core.display.HTML object>",
      "text/html": "Tracking run with wandb version 0.16.3"
     },
     "metadata": {},
     "output_type": "display_data"
    },
    {
     "data": {
      "text/plain": "<IPython.core.display.HTML object>",
      "text/html": "Run data is saved locally in <code>/home/kazi/Works/Projects/pytorch-deep/wandb/run-20240229_141729-nhp4llx6</code>"
     },
     "metadata": {},
     "output_type": "display_data"
    },
    {
     "data": {
      "text/plain": "<IPython.core.display.HTML object>",
      "text/html": "Syncing run <strong><a href='https://wandb.ai/kejaj-777/pytorch-deep/runs/nhp4llx6' target=\"_blank\">model_training_v4</a></strong> to <a href='https://wandb.ai/kejaj-777/pytorch-deep' target=\"_blank\">Weights & Biases</a> (<a href='https://wandb.me/run' target=\"_blank\">docs</a>)<br/>"
     },
     "metadata": {},
     "output_type": "display_data"
    },
    {
     "data": {
      "text/plain": "<IPython.core.display.HTML object>",
      "text/html": " View project at <a href='https://wandb.ai/kejaj-777/pytorch-deep' target=\"_blank\">https://wandb.ai/kejaj-777/pytorch-deep</a>"
     },
     "metadata": {},
     "output_type": "display_data"
    },
    {
     "data": {
      "text/plain": "<IPython.core.display.HTML object>",
      "text/html": " View run at <a href='https://wandb.ai/kejaj-777/pytorch-deep/runs/nhp4llx6' target=\"_blank\">https://wandb.ai/kejaj-777/pytorch-deep/runs/nhp4llx6</a>"
     },
     "metadata": {},
     "output_type": "display_data"
    },
    {
     "name": "stderr",
     "output_type": "stream",
     "text": [
      "wandb: WARNING Source type is set to 'repo' but some required information is missing from the environment. A job will not be created from this run. See https://docs.wandb.ai/guides/launch/create-job\n"
     ]
    },
    {
     "data": {
      "text/plain": "VBox(children=(Label(value='0.006 MB of 0.006 MB uploaded\\r'), FloatProgress(value=1.0, max=1.0)))",
      "application/vnd.jupyter.widget-view+json": {
       "version_major": 2,
       "version_minor": 0,
       "model_id": "0c8b05eabf7a487f9a4622e0791c9091"
      }
     },
     "metadata": {},
     "output_type": "display_data"
    },
    {
     "data": {
      "text/plain": "<IPython.core.display.HTML object>",
      "text/html": "<style>\n    table.wandb td:nth-child(1) { padding: 0 10px; text-align: left ; width: auto;} td:nth-child(2) {text-align: left ; width: 100%}\n    .wandb-row { display: flex; flex-direction: row; flex-wrap: wrap; justify-content: flex-start; width: 100% }\n    .wandb-col { display: flex; flex-direction: column; flex-basis: 100%; flex: 1; padding: 10px; }\n    </style>\n<div class=\"wandb-row\"><div class=\"wandb-col\"><h3>Run history:</h3><br/><table class=\"wandb\"><tr><td>epoch</td><td>▁▁▁▁▂▂▂▂▂▃▃▃▃▃▃▄▄▄▄▄▅▅▅▅▅▅▆▆▆▆▆▇▇▇▇▇▇███</td></tr><tr><td>train_loss</td><td>▂▆▂▄▄▄▁▃█▂▂▁▂▃▄▅▃▁▂▃▃▂▅▁▇▃▂▁▁▃▄▄▂▆▂▃▄█▃▄</td></tr><tr><td>val_loss</td><td>▃▃▄▂▄▂▂▃█▄▄▂▂▂▂▂▁▂▂▂▃▄▂▄▅▃▄▂▃▄▃▂▃▅▃▂▁▃▃▂</td></tr></table><br/></div><div class=\"wandb-col\"><h3>Run summary:</h3><br/><table class=\"wandb\"><tr><td>epoch</td><td>199</td></tr><tr><td>train_loss</td><td>0.00753</td></tr><tr><td>val_loss</td><td>0.00902</td></tr></table><br/></div></div>"
     },
     "metadata": {},
     "output_type": "display_data"
    },
    {
     "data": {
      "text/plain": "<IPython.core.display.HTML object>",
      "text/html": " View run <strong style=\"color:#cdcd00\">model_training_v4</strong> at: <a href='https://wandb.ai/kejaj-777/pytorch-deep/runs/nhp4llx6' target=\"_blank\">https://wandb.ai/kejaj-777/pytorch-deep/runs/nhp4llx6</a><br/>Synced 4 W&B file(s), 0 media file(s), 0 artifact file(s) and 0 other file(s)"
     },
     "metadata": {},
     "output_type": "display_data"
    },
    {
     "data": {
      "text/plain": "<IPython.core.display.HTML object>",
      "text/html": "Find logs at: <code>./wandb/run-20240229_141729-nhp4llx6/logs</code>"
     },
     "metadata": {},
     "output_type": "display_data"
    }
   ],
   "source": [
    "%run -i model_training/v4.py"
   ],
   "metadata": {
    "collapsed": false,
    "ExecuteTime": {
     "end_time": "2024-02-29T13:17:33.800710445Z",
     "start_time": "2024-02-29T13:17:29.800851981Z"
    }
   },
   "id": "cc9d91850da20558"
  },
  {
   "cell_type": "code",
   "execution_count": 93,
   "outputs": [
    {
     "data": {
      "text/plain": "<Figure size 1000x400 with 1 Axes>",
      "image/png": "[encoded data removed]"
     },
     "metadata": {},
     "output_type": "display_data"
    }
   ],
   "source": [
    "fig = plot_losses(losses, val_losses)"
   ],
   "metadata": {
    "collapsed": false,
    "ExecuteTime": {
     "end_time": "2024-02-29T13:18:33.133597172Z",
     "start_time": "2024-02-29T13:18:32.903823403Z"
    }
   },
   "id": "3fc63219e77df9f3"
  },
  {
   "cell_type": "code",
   "execution_count": 94,
   "outputs": [
    {
     "data": {
      "text/plain": "<Figure size 640x480 with 0 Axes>"
     },
     "metadata": {},
     "output_type": "display_data"
    },
    {
     "data": {
      "text/plain": "<IPython.core.display.HTML object>",
      "text/html": "Tracking run with wandb version 0.16.3"
     },
     "metadata": {},
     "output_type": "display_data"
    },
    {
     "data": {
      "text/plain": "<IPython.core.display.HTML object>",
      "text/html": "Run data is saved locally in <code>/home/kazi/Works/Projects/pytorch-deep/wandb/run-20240229_141857-rut4uzio</code>"
     },
     "metadata": {},
     "output_type": "display_data"
    },
    {
     "data": {
      "text/plain": "<IPython.core.display.HTML object>",
      "text/html": "Syncing run <strong><a href='https://wandb.ai/kejaj-777/pytorch-deep/runs/rut4uzio' target=\"_blank\">model_training_v4</a></strong> to <a href='https://wandb.ai/kejaj-777/pytorch-deep' target=\"_blank\">Weights & Biases</a> (<a href='https://wandb.me/run' target=\"_blank\">docs</a>)<br/>"
     },
     "metadata": {},
     "output_type": "display_data"
    },
    {
     "data": {
      "text/plain": "<IPython.core.display.HTML object>",
      "text/html": " View project at <a href='https://wandb.ai/kejaj-777/pytorch-deep' target=\"_blank\">https://wandb.ai/kejaj-777/pytorch-deep</a>"
     },
     "metadata": {},
     "output_type": "display_data"
    },
    {
     "data": {
      "text/plain": "<IPython.core.display.HTML object>",
      "text/html": " View run at <a href='https://wandb.ai/kejaj-777/pytorch-deep/runs/rut4uzio' target=\"_blank\">https://wandb.ai/kejaj-777/pytorch-deep/runs/rut4uzio</a>"
     },
     "metadata": {},
     "output_type": "display_data"
    },
    {
     "name": "stderr",
     "output_type": "stream",
     "text": [
      "wandb: WARNING Source type is set to 'repo' but some required information is missing from the environment. A job will not be created from this run. See https://docs.wandb.ai/guides/launch/create-job\n"
     ]
    },
    {
     "data": {
      "text/plain": "VBox(children=(Label(value='0.006 MB of 0.006 MB uploaded\\r'), FloatProgress(value=1.0, max=1.0)))",
      "application/vnd.jupyter.widget-view+json": {
       "version_major": 2,
       "version_minor": 0,
       "model_id": "282ff2c1e8d04c56ac3d9c4a17f8e0dc"
      }
     },
     "metadata": {},
     "output_type": "display_data"
    },
    {
     "data": {
      "text/plain": "<IPython.core.display.HTML object>",
      "text/html": "<style>\n    table.wandb td:nth-child(1) { padding: 0 10px; text-align: left ; width: auto;} td:nth-child(2) {text-align: left ; width: 100%}\n    .wandb-row { display: flex; flex-direction: row; flex-wrap: wrap; justify-content: flex-start; width: 100% }\n    .wandb-col { display: flex; flex-direction: column; flex-basis: 100%; flex: 1; padding: 10px; }\n    </style>\n<div class=\"wandb-row\"><div class=\"wandb-col\"><h3>Run history:</h3><br/><table class=\"wandb\"><tr><td>epoch</td><td>▁▁▁▁▂▂▂▂▂▃▃▃▃▃▃▄▄▄▄▄▅▅▅▅▅▅▆▆▆▆▆▇▇▇▇▇▇███</td></tr><tr><td>train_loss</td><td>█▄▂▂▁▁▁▁▁▁▁▁▁▁▁▁▁▁▁▁▁▁▁▁▁▁▁▁▁▁▁▁▁▁▁▁▁▁▁▁</td></tr><tr><td>val_loss</td><td>█▅▃▂▂▁▁▁▁▁▁▁▁▁▁▁▁▁▁▁▁▁▁▁▁▁▁▁▁▁▁▁▁▁▁▁▁▁▁▁</td></tr></table><br/></div><div class=\"wandb-col\"><h3>Run summary:</h3><br/><table class=\"wandb\"><tr><td>epoch</td><td>199</td></tr><tr><td>train_loss</td><td>0.00743</td></tr><tr><td>val_loss</td><td>0.00896</td></tr></table><br/></div></div>"
     },
     "metadata": {},
     "output_type": "display_data"
    },
    {
     "data": {
      "text/plain": "<IPython.core.display.HTML object>",
      "text/html": " View run <strong style=\"color:#cdcd00\">model_training_v4</strong> at: <a href='https://wandb.ai/kejaj-777/pytorch-deep/runs/rut4uzio' target=\"_blank\">https://wandb.ai/kejaj-777/pytorch-deep/runs/rut4uzio</a><br/>Synced 4 W&B file(s), 0 media file(s), 0 artifact file(s) and 0 other file(s)"
     },
     "metadata": {},
     "output_type": "display_data"
    },
    {
     "data": {
      "text/plain": "<IPython.core.display.HTML object>",
      "text/html": "Find logs at: <code>./wandb/run-20240229_141857-rut4uzio/logs</code>"
     },
     "metadata": {},
     "output_type": "display_data"
    }
   ],
   "source": [
    "%run -i data_preparation/v2.py\n",
    "%run -i model_configuration/v2.py\n",
    "%run -i model_training/v4.py"
   ],
   "metadata": {
    "collapsed": false,
    "ExecuteTime": {
     "end_time": "2024-02-29T13:19:01.529699687Z",
     "start_time": "2024-02-29T13:18:57.447706871Z"
    }
   },
   "id": "3619d39facdab5f6"
  },
  {
   "cell_type": "markdown",
   "source": [
    "## TensorBoard ##"
   ],
   "metadata": {
    "collapsed": false
   },
   "id": "93cd5f0cd1a2d8db"
  },
  {
   "cell_type": "code",
   "execution_count": 96,
   "outputs": [
    {
     "data": {
      "text/plain": "Launching TensorBoard..."
     },
     "metadata": {},
     "output_type": "display_data"
    }
   ],
   "source": [
    "%load_ext tensorboard\n",
    "%tensorboard --logdir runs"
   ],
   "metadata": {
    "collapsed": false,
    "ExecuteTime": {
     "end_time": "2024-02-29T13:20:28.249656442Z",
     "start_time": "2024-02-29T13:20:26.738194839Z"
    }
   },
   "id": "f59d628909fe5ee4"
  },
  {
   "cell_type": "code",
   "execution_count": 97,
   "outputs": [],
   "source": [
    "writer = SummaryWriter('runs/test')"
   ],
   "metadata": {
    "collapsed": false,
    "ExecuteTime": {
     "end_time": "2024-02-29T13:20:38.417787203Z",
     "start_time": "2024-02-29T13:20:38.391817595Z"
    }
   },
   "id": "befb284c15f1f361"
  },
  {
   "cell_type": "code",
   "execution_count": 99,
   "outputs": [
    {
     "name": "stdout",
     "output_type": "stream",
     "text": [
      "example_kwarg_inputs should be a dict\n",
      "Error occurs, No graph saved\n"
     ]
    },
    {
     "ename": "RuntimeError",
     "evalue": "example_kwarg_inputs should be a dict",
     "output_type": "error",
     "traceback": [
      "\u001B[0;31m---------------------------------------------------------------------------\u001B[0m",
      "\u001B[0;31mRuntimeError\u001B[0m                              Traceback (most recent call last)",
      "Cell \u001B[0;32mIn[99], line 1\u001B[0m\n\u001B[0;32m----> 1\u001B[0m \u001B[43mwriter\u001B[49m\u001B[38;5;241;43m.\u001B[39;49m\u001B[43madd_graph\u001B[49m\u001B[43m(\u001B[49m\u001B[43mmodel\u001B[49m\u001B[43m)\u001B[49m\n",
      "File \u001B[0;32m~/Works/Projects/pytorch-deep/venv/lib/python3.10/site-packages/torch/utils/tensorboard/writer.py:873\u001B[0m, in \u001B[0;36mSummaryWriter.add_graph\u001B[0;34m(self, model, input_to_model, verbose, use_strict_trace)\u001B[0m\n\u001B[1;32m    869\u001B[0m torch\u001B[38;5;241m.\u001B[39m_C\u001B[38;5;241m.\u001B[39m_log_api_usage_once(\u001B[38;5;124m\"\u001B[39m\u001B[38;5;124mtensorboard.logging.add_graph\u001B[39m\u001B[38;5;124m\"\u001B[39m)\n\u001B[1;32m    870\u001B[0m \u001B[38;5;28;01mif\u001B[39;00m \u001B[38;5;28mhasattr\u001B[39m(model, \u001B[38;5;124m\"\u001B[39m\u001B[38;5;124mforward\u001B[39m\u001B[38;5;124m\"\u001B[39m):\n\u001B[1;32m    871\u001B[0m     \u001B[38;5;66;03m# A valid PyTorch model should have a 'forward' method\u001B[39;00m\n\u001B[1;32m    872\u001B[0m     \u001B[38;5;28mself\u001B[39m\u001B[38;5;241m.\u001B[39m_get_file_writer()\u001B[38;5;241m.\u001B[39madd_graph(\n\u001B[0;32m--> 873\u001B[0m         \u001B[43mgraph\u001B[49m\u001B[43m(\u001B[49m\u001B[43mmodel\u001B[49m\u001B[43m,\u001B[49m\u001B[43m \u001B[49m\u001B[43minput_to_model\u001B[49m\u001B[43m,\u001B[49m\u001B[43m \u001B[49m\u001B[43mverbose\u001B[49m\u001B[43m,\u001B[49m\u001B[43m \u001B[49m\u001B[43muse_strict_trace\u001B[49m\u001B[43m)\u001B[49m\n\u001B[1;32m    874\u001B[0m     )\n\u001B[1;32m    875\u001B[0m \u001B[38;5;28;01melse\u001B[39;00m:\n\u001B[1;32m    876\u001B[0m     \u001B[38;5;66;03m# Caffe2 models do not have the 'forward' method\u001B[39;00m\n\u001B[1;32m    877\u001B[0m     \u001B[38;5;28;01mfrom\u001B[39;00m \u001B[38;5;21;01mcaffe2\u001B[39;00m\u001B[38;5;21;01m.\u001B[39;00m\u001B[38;5;21;01mproto\u001B[39;00m \u001B[38;5;28;01mimport\u001B[39;00m caffe2_pb2\n",
      "File \u001B[0;32m~/Works/Projects/pytorch-deep/venv/lib/python3.10/site-packages/torch/utils/tensorboard/_pytorch_graph.py:341\u001B[0m, in \u001B[0;36mgraph\u001B[0;34m(model, args, verbose, use_strict_trace)\u001B[0m\n\u001B[1;32m    339\u001B[0m         \u001B[38;5;28mprint\u001B[39m(e)\n\u001B[1;32m    340\u001B[0m         \u001B[38;5;28mprint\u001B[39m(\u001B[38;5;124m\"\u001B[39m\u001B[38;5;124mError occurs, No graph saved\u001B[39m\u001B[38;5;124m\"\u001B[39m)\n\u001B[0;32m--> 341\u001B[0m         \u001B[38;5;28;01mraise\u001B[39;00m e\n\u001B[1;32m    343\u001B[0m \u001B[38;5;28;01mif\u001B[39;00m verbose:\n\u001B[1;32m    344\u001B[0m     \u001B[38;5;28mprint\u001B[39m(graph)\n",
      "File \u001B[0;32m~/Works/Projects/pytorch-deep/venv/lib/python3.10/site-packages/torch/utils/tensorboard/_pytorch_graph.py:335\u001B[0m, in \u001B[0;36mgraph\u001B[0;34m(model, args, verbose, use_strict_trace)\u001B[0m\n\u001B[1;32m    333\u001B[0m \u001B[38;5;28;01mwith\u001B[39;00m _set_model_to_eval(model):\n\u001B[1;32m    334\u001B[0m     \u001B[38;5;28;01mtry\u001B[39;00m:\n\u001B[0;32m--> 335\u001B[0m         trace \u001B[38;5;241m=\u001B[39m \u001B[43mtorch\u001B[49m\u001B[38;5;241;43m.\u001B[39;49m\u001B[43mjit\u001B[49m\u001B[38;5;241;43m.\u001B[39;49m\u001B[43mtrace\u001B[49m\u001B[43m(\u001B[49m\u001B[43mmodel\u001B[49m\u001B[43m,\u001B[49m\u001B[43m \u001B[49m\u001B[43margs\u001B[49m\u001B[43m,\u001B[49m\u001B[43m \u001B[49m\u001B[43mstrict\u001B[49m\u001B[38;5;241;43m=\u001B[39;49m\u001B[43muse_strict_trace\u001B[49m\u001B[43m)\u001B[49m\n\u001B[1;32m    336\u001B[0m         graph \u001B[38;5;241m=\u001B[39m trace\u001B[38;5;241m.\u001B[39mgraph\n\u001B[1;32m    337\u001B[0m         torch\u001B[38;5;241m.\u001B[39m_C\u001B[38;5;241m.\u001B[39m_jit_pass_inline(graph)\n",
      "File \u001B[0;32m~/Works/Projects/pytorch-deep/venv/lib/python3.10/site-packages/torch/jit/_trace.py:797\u001B[0m, in \u001B[0;36mtrace\u001B[0;34m(func, example_inputs, optimize, check_trace, check_inputs, check_tolerance, strict, _force_outplace, _module_class, _compilation_unit, example_kwarg_inputs, _store_inputs)\u001B[0m\n\u001B[1;32m    795\u001B[0m             example_inputs \u001B[38;5;241m=\u001B[39m example_kwarg_inputs\n\u001B[1;32m    796\u001B[0m         \u001B[38;5;28;01melse\u001B[39;00m:\n\u001B[0;32m--> 797\u001B[0m             \u001B[38;5;28;01mraise\u001B[39;00m \u001B[38;5;167;01mRuntimeError\u001B[39;00m(\u001B[38;5;124m\"\u001B[39m\u001B[38;5;124mexample_kwarg_inputs should be a dict\u001B[39m\u001B[38;5;124m\"\u001B[39m)\n\u001B[1;32m    798\u001B[0m     \u001B[38;5;28;01mreturn\u001B[39;00m trace_module(\n\u001B[1;32m    799\u001B[0m         func,\n\u001B[1;32m    800\u001B[0m         {\u001B[38;5;124m\"\u001B[39m\u001B[38;5;124mforward\u001B[39m\u001B[38;5;124m\"\u001B[39m: example_inputs},\n\u001B[0;32m   (...)\u001B[0m\n\u001B[1;32m    809\u001B[0m         _store_inputs\u001B[38;5;241m=\u001B[39m_store_inputs,\n\u001B[1;32m    810\u001B[0m     )\n\u001B[1;32m    811\u001B[0m \u001B[38;5;28;01mif\u001B[39;00m (\n\u001B[1;32m    812\u001B[0m     \u001B[38;5;28mhasattr\u001B[39m(func, \u001B[38;5;124m\"\u001B[39m\u001B[38;5;124m__self__\u001B[39m\u001B[38;5;124m\"\u001B[39m)\n\u001B[1;32m    813\u001B[0m     \u001B[38;5;129;01mand\u001B[39;00m \u001B[38;5;28misinstance\u001B[39m(func\u001B[38;5;241m.\u001B[39m\u001B[38;5;18m__self__\u001B[39m, torch\u001B[38;5;241m.\u001B[39mnn\u001B[38;5;241m.\u001B[39mModule)\n\u001B[1;32m    814\u001B[0m     \u001B[38;5;129;01mand\u001B[39;00m func\u001B[38;5;241m.\u001B[39m\u001B[38;5;18m__name__\u001B[39m \u001B[38;5;241m==\u001B[39m \u001B[38;5;124m\"\u001B[39m\u001B[38;5;124mforward\u001B[39m\u001B[38;5;124m\"\u001B[39m\n\u001B[1;32m    815\u001B[0m ):\n",
      "\u001B[0;31mRuntimeError\u001B[0m: example_kwarg_inputs should be a dict"
     ]
    }
   ],
   "source": [
    "writer.add_graph(model)"
   ],
   "metadata": {
    "collapsed": false,
    "ExecuteTime": {
     "end_time": "2024-02-29T13:24:36.275427109Z",
     "start_time": "2024-02-29T13:24:36.231183185Z"
    }
   },
   "id": "6a217b10334a0c40"
  },
  {
   "cell_type": "code",
   "execution_count": 100,
   "outputs": [],
   "source": [
    "# Fetching a tuple of feature (sample_x) and label (sample_y)\n",
    "sample_x, sample_y = next(iter(train_loader))\n",
    "\n",
    "# Since our model was sent to device, we need to do the same with the data\n",
    "# Even here, both model and data need to be on the same device!\n",
    "writer.add_graph(model, sample_x.to(device))"
   ],
   "metadata": {
    "collapsed": false,
    "ExecuteTime": {
     "end_time": "2024-02-29T13:25:11.226100084Z",
     "start_time": "2024-02-29T13:25:11.162256797Z"
    }
   },
   "id": "996152e52cc532fa"
  },
  {
   "cell_type": "code",
   "execution_count": 101,
   "outputs": [],
   "source": [
    "writer.add_scalars('loss', {'training': loss, 'validation': val_loss}, epoch)"
   ],
   "metadata": {
    "collapsed": false,
    "ExecuteTime": {
     "end_time": "2024-02-29T13:26:24.554701027Z",
     "start_time": "2024-02-29T13:26:24.506479181Z"
    }
   },
   "id": "37d886c50dc76ac4"
  },
  {
   "cell_type": "markdown",
   "source": [
    "## Model Configuration V3 ##"
   ],
   "metadata": {
    "collapsed": false
   },
   "id": "3af48e428b836f5a"
  },
  {
   "cell_type": "code",
   "execution_count": 102,
   "outputs": [],
   "source": [
    "%run -i data_preparation/v2.py"
   ],
   "metadata": {
    "collapsed": false,
    "ExecuteTime": {
     "end_time": "2024-02-29T13:31:47.965696414Z",
     "start_time": "2024-02-29T13:31:47.939358102Z"
    }
   },
   "id": "a7f8858f9b0c6f17"
  },
  {
   "cell_type": "code",
   "execution_count": 103,
   "outputs": [
    {
     "name": "stdout",
     "output_type": "stream",
     "text": [
      "Writing model_configuration/v3.py\n"
     ]
    }
   ],
   "source": [
    "%%writefile model_configuration/v3.py\n",
    "\n",
    "device = 'cuda' if torch.cuda.is_available() else 'cpu'\n",
    "\n",
    "# Sets learning rate - this is \"eta\" ~ the \"n\" like Greek letter\n",
    "lr = 0.1\n",
    "\n",
    "torch.manual_seed(42)\n",
    "# Now we can create a model and send it at once to the device\n",
    "model = nn.Sequential(nn.Linear(1, 1)).to(device)\n",
    "\n",
    "# Defines a SGD optimizer to update the parameters (now retrieved directly from the model)\n",
    "optimizer = optim.SGD(model.parameters(), lr=lr)\n",
    "\n",
    "# Defines a MSE loss function\n",
    "loss_fn = nn.MSELoss(reduction='mean')\n",
    "\n",
    "# Creates the train_step function for our model, loss function and optimizer\n",
    "train_step_fn = make_train_step_fn(model, loss_fn, optimizer)\n",
    "\n",
    "# Creates the val_step function for our model and loss function\n",
    "val_step_fn = make_val_step_fn(model, loss_fn)\n",
    "\n",
    "# Creates a Summary Writer to interface with TensorBoard\n",
    "writer = SummaryWriter('runs/simple_linear_regression')\n",
    "\n",
    "# Fetches a single mini-batch so we can use add_graph\n",
    "x_sample, y_sample = next(iter(train_loader))\n",
    "writer.add_graph(model, x_sample.to(device))"
   ],
   "metadata": {
    "collapsed": false,
    "ExecuteTime": {
     "end_time": "2024-02-29T13:32:09.319720905Z",
     "start_time": "2024-02-29T13:32:09.289457611Z"
    }
   },
   "id": "c9ed28be7cd44738"
  },
  {
   "cell_type": "code",
   "execution_count": 104,
   "outputs": [],
   "source": [
    "%run -i model_configuration/v3.py"
   ],
   "metadata": {
    "collapsed": false,
    "ExecuteTime": {
     "end_time": "2024-02-29T13:32:17.680901720Z",
     "start_time": "2024-02-29T13:32:17.625301615Z"
    }
   },
   "id": "1975c2bde9a8c666"
  },
  {
   "cell_type": "markdown",
   "source": [
    "## Model Training V5 ##"
   ],
   "metadata": {
    "collapsed": false
   },
   "id": "c8af91a65c47efd7"
  },
  {
   "cell_type": "code",
   "execution_count": 105,
   "outputs": [
    {
     "name": "stdout",
     "output_type": "stream",
     "text": [
      "Writing model_training/v5.py\n"
     ]
    }
   ],
   "source": [
    "%%writefile model_training/v5.py\n",
    "\n",
    "# Defines number of epochs\n",
    "n_epochs = 200\n",
    "\n",
    "losses = []\n",
    "val_losses = []\n",
    "\n",
    "for epoch in range(n_epochs):\n",
    "    # inner loop\n",
    "    loss = mini_batch(device, train_loader, train_step_fn)\n",
    "    losses.append(loss)\n",
    "\n",
    "    # VALIDATION\n",
    "    # no gradients in validation!\n",
    "    with torch.no_grad():\n",
    "        val_loss = mini_batch(device, val_loader, val_step_fn)\n",
    "        val_losses.append(val_loss)\n",
    "\n",
    "    # Records both losses for each epoch under the main tag \"loss\"\n",
    "    writer.add_scalars(main_tag='loss',\n",
    "                       tag_scalar_dict={'training': loss, 'validation': val_loss},\n",
    "                       global_step=epoch)\n",
    "\n",
    "# Closes the writer\n",
    "writer.close()"
   ],
   "metadata": {
    "collapsed": false,
    "ExecuteTime": {
     "end_time": "2024-02-29T13:34:32.451079627Z",
     "start_time": "2024-02-29T13:34:32.408837072Z"
    }
   },
   "id": "29c776dd3188e769"
  },
  {
   "cell_type": "code",
   "execution_count": 106,
   "outputs": [],
   "source": [
    "%run -i model_training/v5.py"
   ],
   "metadata": {
    "collapsed": false,
    "ExecuteTime": {
     "end_time": "2024-02-29T13:34:39.791611937Z",
     "start_time": "2024-02-29T13:34:39.073528669Z"
    }
   },
   "id": "bea73e80e7283685"
  },
  {
   "cell_type": "code",
   "execution_count": 107,
   "outputs": [
    {
     "name": "stdout",
     "output_type": "stream",
     "text": [
      "OrderedDict([('0.weight', tensor([[1.9432]], device='cuda:0')), ('0.bias', tensor([1.0263], device='cuda:0'))])\n"
     ]
    }
   ],
   "source": [
    "# Checks model's parameters\n",
    "print(model.state_dict())"
   ],
   "metadata": {
    "collapsed": false,
    "ExecuteTime": {
     "end_time": "2024-02-29T13:34:45.420122458Z",
     "start_time": "2024-02-29T13:34:45.388172425Z"
    }
   },
   "id": "81e707449a8b3e8c"
  },
  {
   "cell_type": "markdown",
   "source": [
    "## Saving and Loading Models ## "
   ],
   "metadata": {
    "collapsed": false
   },
   "id": "5581eb6dedc6efc1"
  },
  {
   "cell_type": "markdown",
   "source": [
    "**Saving**"
   ],
   "metadata": {
    "collapsed": false
   },
   "id": "4f337540b36aee08"
  },
  {
   "cell_type": "code",
   "execution_count": 108,
   "outputs": [],
   "source": [
    "checkpoint = {'epoch': n_epochs,\n",
    "              'model_state_dict': model.state_dict(),\n",
    "              'optimizer_state_dict': optimizer.state_dict(),\n",
    "              'loss': losses,\n",
    "              'val_loss': val_losses}\n",
    "\n",
    "torch.save(checkpoint, 'model_checkpoint.pth')"
   ],
   "metadata": {
    "collapsed": false,
    "ExecuteTime": {
     "end_time": "2024-02-29T14:05:19.720732351Z",
     "start_time": "2024-02-29T14:05:19.668736178Z"
    }
   },
   "id": "a6c70c020c7072b4"
  },
  {
   "cell_type": "code",
   "execution_count": 109,
   "outputs": [],
   "source": [
    "%run -i data_preparation/v2.py\n",
    "%run -i model_configuration/v3.py"
   ],
   "metadata": {
    "collapsed": false,
    "ExecuteTime": {
     "end_time": "2024-02-29T14:05:29.058508154Z",
     "start_time": "2024-02-29T14:05:29.023513043Z"
    }
   },
   "id": "861570c7866c8263"
  },
  {
   "cell_type": "code",
   "execution_count": 110,
   "outputs": [
    {
     "name": "stdout",
     "output_type": "stream",
     "text": [
      "OrderedDict([('0.weight', tensor([[0.7645]], device='cuda:0')), ('0.bias', tensor([0.8300], device='cuda:0'))])\n"
     ]
    }
   ],
   "source": [
    "print(model.state_dict())"
   ],
   "metadata": {
    "collapsed": false,
    "ExecuteTime": {
     "end_time": "2024-02-29T14:05:41.322262512Z",
     "start_time": "2024-02-29T14:05:41.289435294Z"
    }
   },
   "id": "b26af1707c141e9"
  },
  {
   "cell_type": "code",
   "execution_count": 111,
   "outputs": [
    {
     "data": {
      "text/plain": "Sequential(\n  (0): Linear(in_features=1, out_features=1, bias=True)\n)"
     },
     "execution_count": 111,
     "metadata": {},
     "output_type": "execute_result"
    }
   ],
   "source": [
    "checkpoint = torch.load('model_checkpoint.pth')\n",
    "\n",
    "model.load_state_dict(checkpoint['model_state_dict'])\n",
    "optimizer.load_state_dict(checkpoint['optimizer_state_dict'])\n",
    "\n",
    "saved_epoch = checkpoint['epoch']\n",
    "saved_losses = checkpoint['loss']\n",
    "saved_val_losses = checkpoint['val_loss']\n",
    "\n",
    "model.train() # always use TRAIN for resuming training"
   ],
   "metadata": {
    "collapsed": false,
    "ExecuteTime": {
     "end_time": "2024-02-29T14:07:33.241469922Z",
     "start_time": "2024-02-29T14:07:33.181010669Z"
    }
   },
   "id": "ae08bcc41d9b2cb0"
  },
  {
   "cell_type": "code",
   "execution_count": 112,
   "outputs": [
    {
     "name": "stdout",
     "output_type": "stream",
     "text": [
      "OrderedDict([('0.weight', tensor([[1.9432]], device='cuda:0')), ('0.bias', tensor([1.0263], device='cuda:0'))])\n"
     ]
    }
   ],
   "source": [
    "print(model.state_dict())"
   ],
   "metadata": {
    "collapsed": false,
    "ExecuteTime": {
     "end_time": "2024-02-29T14:07:43.610729514Z",
     "start_time": "2024-02-29T14:07:43.558063173Z"
    }
   },
   "id": "9e16ab03a1daff3c"
  },
  {
   "cell_type": "code",
   "execution_count": 113,
   "outputs": [],
   "source": [
    "%run -i model_training/v5.py"
   ],
   "metadata": {
    "collapsed": false,
    "ExecuteTime": {
     "end_time": "2024-02-29T14:07:52.490252453Z",
     "start_time": "2024-02-29T14:07:51.711931988Z"
    }
   },
   "id": "2436ec2af47cfdfe"
  },
  {
   "cell_type": "code",
   "execution_count": 114,
   "outputs": [
    {
     "name": "stdout",
     "output_type": "stream",
     "text": [
      "OrderedDict([('0.weight', tensor([[1.9432]], device='cuda:0')), ('0.bias', tensor([1.0263], device='cuda:0'))])\n"
     ]
    }
   ],
   "source": [
    "print(model.state_dict())"
   ],
   "metadata": {
    "collapsed": false,
    "ExecuteTime": {
     "end_time": "2024-02-29T14:08:02.753549652Z",
     "start_time": "2024-02-29T14:08:02.714401410Z"
    }
   },
   "id": "1606add2796862c1"
  },
  {
   "cell_type": "code",
   "execution_count": 115,
   "outputs": [
    {
     "data": {
      "text/plain": "<Figure size 1000x400 with 1 Axes>",
      "image/png": "[encoded data removed]"
     },
     "metadata": {},
     "output_type": "display_data"
    }
   ],
   "source": [
    "fig = plot_resumed_losses(saved_epoch, saved_losses, saved_val_losses, n_epochs, losses, val_losses)"
   ],
   "metadata": {
    "collapsed": false,
    "ExecuteTime": {
     "end_time": "2024-02-29T14:08:10.147776777Z",
     "start_time": "2024-02-29T14:08:09.960712077Z"
    }
   },
   "id": "6d66f454a6bc9adc"
  },
  {
   "cell_type": "markdown",
   "source": [
    "## Deploying / Making Predictions ##"
   ],
   "metadata": {
    "collapsed": false
   },
   "id": "25ccad0d69271dd2"
  },
  {
   "cell_type": "code",
   "execution_count": 116,
   "outputs": [
    {
     "data": {
      "text/plain": "<Figure size 640x480 with 0 Axes>"
     },
     "metadata": {},
     "output_type": "display_data"
    }
   ],
   "source": [
    "%run -i model_configuration/v3.py"
   ],
   "metadata": {
    "collapsed": false,
    "ExecuteTime": {
     "end_time": "2024-02-29T14:09:47.322372832Z",
     "start_time": "2024-02-29T14:09:47.277027848Z"
    }
   },
   "id": "c86e429ab62a135f"
  },
  {
   "cell_type": "code",
   "execution_count": 117,
   "outputs": [
    {
     "name": "stdout",
     "output_type": "stream",
     "text": [
      "OrderedDict([('0.weight', tensor([[1.9432]], device='cuda:0')), ('0.bias', tensor([1.0263], device='cuda:0'))])\n"
     ]
    }
   ],
   "source": [
    "checkpoint = torch.load('model_checkpoint.pth')\n",
    "\n",
    "model.load_state_dict(checkpoint['model_state_dict'])\n",
    "\n",
    "print(model.state_dict())"
   ],
   "metadata": {
    "collapsed": false,
    "ExecuteTime": {
     "end_time": "2024-02-29T14:09:53.722412860Z",
     "start_time": "2024-02-29T14:09:53.682385867Z"
    }
   },
   "id": "e0d65aa347fd3287"
  },
  {
   "cell_type": "code",
   "execution_count": 118,
   "outputs": [
    {
     "data": {
      "text/plain": "tensor([[1.4150],\n        [1.6870],\n        [2.1340]], device='cuda:0', grad_fn=<AddmmBackward0>)"
     },
     "execution_count": 118,
     "metadata": {},
     "output_type": "execute_result"
    }
   ],
   "source": [
    "new_inputs = torch.tensor([[.20], [.34], [.57]])\n",
    "\n",
    "model.eval() # always use EVAL for fully trained models!\n",
    "model(new_inputs.to(device))"
   ],
   "metadata": {
    "collapsed": false,
    "ExecuteTime": {
     "end_time": "2024-02-29T14:10:02.291314342Z",
     "start_time": "2024-02-29T14:10:02.248050568Z"
    }
   },
   "id": "b485c87797430f18"
  },
  {
   "cell_type": "markdown",
   "source": [
    "**Putting It All Together**"
   ],
   "metadata": {
    "collapsed": false
   },
   "id": "20c6f782c4fdc457"
  },
  {
   "cell_type": "code",
   "execution_count": 119,
   "outputs": [],
   "source": [
    "# %load data_preparation/v2.py\n",
    "\n",
    "torch.manual_seed(13)\n",
    "\n",
    "# Builds tensors from numpy arrays BEFORE split\n",
    "x_tensor = torch.from_numpy(x).float()\n",
    "y_tensor = torch.from_numpy(y).float()\n",
    "\n",
    "# Builds dataset containing ALL data points\n",
    "dataset = TensorDataset(x_tensor, y_tensor)\n",
    "\n",
    "# Performs the split\n",
    "ratio = .8\n",
    "n_total = len(dataset)\n",
    "n_train = int(n_total * ratio)\n",
    "n_val = n_total - n_train\n",
    "\n",
    "train_data, val_data = random_split(dataset, [n_train, n_val])\n",
    "\n",
    "# Builds a loader of each set\n",
    "train_loader = DataLoader(dataset=train_data, batch_size=16, shuffle=True)\n",
    "val_loader = DataLoader(dataset=val_data, batch_size=16)"
   ],
   "metadata": {
    "collapsed": false,
    "ExecuteTime": {
     "end_time": "2024-02-29T14:10:29.956818629Z",
     "start_time": "2024-02-29T14:10:29.888836034Z"
    }
   },
   "id": "f405fb445b072635"
  },
  {
   "cell_type": "code",
   "execution_count": 120,
   "outputs": [],
   "source": [
    "# %load model_configuration/v3.py\n",
    "\n",
    "device = 'cuda' if torch.cuda.is_available() else 'cpu'\n",
    "\n",
    "# Sets learning rate - this is \"eta\" ~ the \"n\" like Greek letter\n",
    "lr = 0.1\n",
    "\n",
    "torch.manual_seed(42)\n",
    "# Now we can create a model and send it at once to the device\n",
    "model = nn.Sequential(nn.Linear(1, 1)).to(device)\n",
    "\n",
    "# Defines a SGD optimizer to update the parameters (now retrieved directly from the model)\n",
    "optimizer = optim.SGD(model.parameters(), lr=lr)\n",
    "\n",
    "# Defines a MSE loss function\n",
    "loss_fn = nn.MSELoss(reduction='mean')\n",
    "\n",
    "# Creates the train_step function for our model, loss function and optimizer\n",
    "train_step_fn = make_train_step_fn(model, loss_fn, optimizer)\n",
    "\n",
    "# Creates the val_step function for our model and loss function\n",
    "val_step_fn = make_val_step_fn(model, loss_fn)\n",
    "\n",
    "# Creates a Summary Writer to interface with TensorBoard\n",
    "writer = SummaryWriter('runs/simple_linear_regression')\n",
    "\n",
    "# Fetches a single mini-batch so we can use add_graph\n",
    "x_sample, y_sample = next(iter(train_loader))\n",
    "writer.add_graph(model, x_sample.to(device))"
   ],
   "metadata": {
    "collapsed": false,
    "ExecuteTime": {
     "end_time": "2024-02-29T14:10:37.451065109Z",
     "start_time": "2024-02-29T14:10:37.402253602Z"
    }
   },
   "id": "bad66574e5c4681c"
  },
  {
   "cell_type": "code",
   "execution_count": 121,
   "outputs": [],
   "source": [
    "# Defines number of epochs\n",
    "n_epochs = 200\n",
    "\n",
    "losses = []\n",
    "val_losses = []\n",
    "\n",
    "for epoch in range(n_epochs):\n",
    "    # inner loop\n",
    "    loss = mini_batch(device, train_loader, train_step_fn)\n",
    "    losses.append(loss)\n",
    "    \n",
    "    # VALIDATION\n",
    "    # no gradients in validation!\n",
    "    with torch.no_grad():\n",
    "        val_loss = mini_batch(device, val_loader, val_step_fn)\n",
    "        val_losses.append(val_loss)\n",
    "    \n",
    "    # Records both losses for each epoch under the main tag \"loss\"\n",
    "    writer.add_scalars(main_tag='loss',\n",
    "                       tag_scalar_dict={'training': loss, 'validation': val_loss},\n",
    "                       global_step=epoch)\n",
    "\n",
    "# Closes the writer\n",
    "writer.close()"
   ],
   "metadata": {
    "collapsed": false,
    "ExecuteTime": {
     "end_time": "2024-02-29T14:10:44.771442316Z",
     "start_time": "2024-02-29T14:10:43.978916499Z"
    }
   },
   "id": "216b6d6a864fb7de"
  },
  {
   "cell_type": "code",
   "execution_count": 122,
   "outputs": [],
   "source": [
    "import shutil\n",
    "\n",
    "shutil.rmtree('./runs/simple_linear_regression/', ignore_errors=True)"
   ],
   "metadata": {
    "collapsed": false,
    "ExecuteTime": {
     "end_time": "2024-02-29T14:11:04.650028667Z",
     "start_time": "2024-02-29T14:11:04.605394359Z"
    }
   },
   "id": "e909b872df265732"
  },
  {
   "cell_type": "code",
   "execution_count": null,
   "outputs": [],
   "source": [],
   "metadata": {
    "collapsed": false
   },
   "id": "72a53505f7595fcf"
  }
 ],
 "metadata": {
  "kernelspec": {
   "display_name": "Python 3 (ipykernel)",
   "language": "python",
   "name": "python3"
  },
  "language_info": {
   "codemirror_mode": {
    "name": "ipython",
    "version": 3
   },
   "file_extension": ".py",
   "mimetype": "text/x-python",
   "name": "python",
   "nbconvert_exporter": "python",
   "pygments_lexer": "ipython3",
   "version": "3.10.12"
  }
 },
 "nbformat": 4,
 "nbformat_minor": 5
}
